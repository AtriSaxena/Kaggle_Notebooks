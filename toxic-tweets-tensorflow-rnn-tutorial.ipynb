{
 "cells": [
  {
   "cell_type": "markdown",
   "id": "a60a9391",
   "metadata": {
    "papermill": {
     "duration": 0.014955,
     "end_time": "2022-09-28T14:08:44.966531",
     "exception": false,
     "start_time": "2022-09-28T14:08:44.951576",
     "status": "completed"
    },
    "tags": []
   },
   "source": [
    "# Import Libraries & Data"
   ]
  },
  {
   "cell_type": "code",
   "execution_count": 1,
   "id": "e8cf3cb2",
   "metadata": {
    "_cell_guid": "b1076dfc-b9ad-4769-8c92-a6c4dae69d19",
    "_uuid": "8f2839f25d086af736a60e9eeb907d3b93b6e0e5",
    "execution": {
     "iopub.execute_input": "2022-09-28T14:08:44.996090Z",
     "iopub.status.busy": "2022-09-28T14:08:44.995422Z",
     "iopub.status.idle": "2022-09-28T14:08:46.169016Z",
     "shell.execute_reply": "2022-09-28T14:08:46.167774Z"
    },
    "papermill": {
     "duration": 1.192288,
     "end_time": "2022-09-28T14:08:46.172355",
     "exception": false,
     "start_time": "2022-09-28T14:08:44.980067",
     "status": "completed"
    },
    "tags": []
   },
   "outputs": [],
   "source": [
    "import numpy as np\n",
    "import pandas as pd \n",
    "import matplotlib.pyplot as plt \n",
    "import seaborn as sns \n",
    "import random"
   ]
  },
  {
   "cell_type": "code",
   "execution_count": 2,
   "id": "a553eb4e",
   "metadata": {
    "execution": {
     "iopub.execute_input": "2022-09-28T14:08:46.203859Z",
     "iopub.status.busy": "2022-09-28T14:08:46.203141Z",
     "iopub.status.idle": "2022-09-28T14:08:46.438710Z",
     "shell.execute_reply": "2022-09-28T14:08:46.437261Z"
    },
    "papermill": {
     "duration": 0.25297,
     "end_time": "2022-09-28T14:08:46.441244",
     "exception": false,
     "start_time": "2022-09-28T14:08:46.188274",
     "status": "completed"
    },
    "tags": []
   },
   "outputs": [
    {
     "data": {
      "text/html": [
       "<div>\n",
       "<style scoped>\n",
       "    .dataframe tbody tr th:only-of-type {\n",
       "        vertical-align: middle;\n",
       "    }\n",
       "\n",
       "    .dataframe tbody tr th {\n",
       "        vertical-align: top;\n",
       "    }\n",
       "\n",
       "    .dataframe thead th {\n",
       "        text-align: right;\n",
       "    }\n",
       "</style>\n",
       "<table border=\"1\" class=\"dataframe\">\n",
       "  <thead>\n",
       "    <tr style=\"text-align: right;\">\n",
       "      <th></th>\n",
       "      <th>Unnamed: 0</th>\n",
       "      <th>Toxicity</th>\n",
       "      <th>tweet</th>\n",
       "    </tr>\n",
       "  </thead>\n",
       "  <tbody>\n",
       "    <tr>\n",
       "      <th>0</th>\n",
       "      <td>0</td>\n",
       "      <td>0</td>\n",
       "      <td>@user when a father is dysfunctional and is s...</td>\n",
       "    </tr>\n",
       "    <tr>\n",
       "      <th>1</th>\n",
       "      <td>1</td>\n",
       "      <td>0</td>\n",
       "      <td>@user @user thanks for #lyft credit i can't us...</td>\n",
       "    </tr>\n",
       "    <tr>\n",
       "      <th>2</th>\n",
       "      <td>2</td>\n",
       "      <td>0</td>\n",
       "      <td>bihday your majesty</td>\n",
       "    </tr>\n",
       "    <tr>\n",
       "      <th>3</th>\n",
       "      <td>3</td>\n",
       "      <td>0</td>\n",
       "      <td>#model   i love u take with u all the time in ...</td>\n",
       "    </tr>\n",
       "    <tr>\n",
       "      <th>4</th>\n",
       "      <td>4</td>\n",
       "      <td>0</td>\n",
       "      <td>factsguide: society now    #motivation</td>\n",
       "    </tr>\n",
       "  </tbody>\n",
       "</table>\n",
       "</div>"
      ],
      "text/plain": [
       "   Unnamed: 0  Toxicity                                              tweet\n",
       "0           0         0   @user when a father is dysfunctional and is s...\n",
       "1           1         0  @user @user thanks for #lyft credit i can't us...\n",
       "2           2         0                                bihday your majesty\n",
       "3           3         0  #model   i love u take with u all the time in ...\n",
       "4           4         0             factsguide: society now    #motivation"
      ]
     },
     "execution_count": 2,
     "metadata": {},
     "output_type": "execute_result"
    }
   ],
   "source": [
    "data_df = pd.read_csv(\"../input/toxic-tweets-dataset/FinalBalancedDataset.csv\")\n",
    "data_df.head()"
   ]
  },
  {
   "cell_type": "code",
   "execution_count": 3,
   "id": "ab5825ce",
   "metadata": {
    "execution": {
     "iopub.execute_input": "2022-09-28T14:08:46.470733Z",
     "iopub.status.busy": "2022-09-28T14:08:46.470306Z",
     "iopub.status.idle": "2022-09-28T14:08:46.490276Z",
     "shell.execute_reply": "2022-09-28T14:08:46.489007Z"
    },
    "papermill": {
     "duration": 0.037854,
     "end_time": "2022-09-28T14:08:46.493079",
     "exception": false,
     "start_time": "2022-09-28T14:08:46.455225",
     "status": "completed"
    },
    "tags": []
   },
   "outputs": [
    {
     "data": {
      "text/html": [
       "<div>\n",
       "<style scoped>\n",
       "    .dataframe tbody tr th:only-of-type {\n",
       "        vertical-align: middle;\n",
       "    }\n",
       "\n",
       "    .dataframe tbody tr th {\n",
       "        vertical-align: top;\n",
       "    }\n",
       "\n",
       "    .dataframe thead th {\n",
       "        text-align: right;\n",
       "    }\n",
       "</style>\n",
       "<table border=\"1\" class=\"dataframe\">\n",
       "  <thead>\n",
       "    <tr style=\"text-align: right;\">\n",
       "      <th></th>\n",
       "      <th>Unnamed: 0</th>\n",
       "      <th>Toxicity</th>\n",
       "      <th>tweet</th>\n",
       "    </tr>\n",
       "  </thead>\n",
       "  <tbody>\n",
       "    <tr>\n",
       "      <th>44200</th>\n",
       "      <td>44200</td>\n",
       "      <td>1</td>\n",
       "      <td>Kim K is alright but honestly so many niggas b...</td>\n",
       "    </tr>\n",
       "    <tr>\n",
       "      <th>46339</th>\n",
       "      <td>46339</td>\n",
       "      <td>0</td>\n",
       "      <td>RT @BigJonBul: The stars wink knowingly and sm...</td>\n",
       "    </tr>\n",
       "    <tr>\n",
       "      <th>49169</th>\n",
       "      <td>49169</td>\n",
       "      <td>1</td>\n",
       "      <td>RT @Sassymermaidxo: &amp;#8220;@VSamone: &amp;#8220;@Z...</td>\n",
       "    </tr>\n",
       "    <tr>\n",
       "      <th>54130</th>\n",
       "      <td>54130</td>\n",
       "      <td>1</td>\n",
       "      <td>Those \"tell me about yourself \" lookin ass nig...</td>\n",
       "    </tr>\n",
       "    <tr>\n",
       "      <th>18801</th>\n",
       "      <td>18801</td>\n",
       "      <td>0</td>\n",
       "      <td>4 days ago ... to celebrate #national iced tea...</td>\n",
       "    </tr>\n",
       "  </tbody>\n",
       "</table>\n",
       "</div>"
      ],
      "text/plain": [
       "       Unnamed: 0  Toxicity                                              tweet\n",
       "44200       44200         1  Kim K is alright but honestly so many niggas b...\n",
       "46339       46339         0  RT @BigJonBul: The stars wink knowingly and sm...\n",
       "49169       49169         1  RT @Sassymermaidxo: &#8220;@VSamone: &#8220;@Z...\n",
       "54130       54130         1  Those \"tell me about yourself \" lookin ass nig...\n",
       "18801       18801         0  4 days ago ... to celebrate #national iced tea..."
      ]
     },
     "execution_count": 3,
     "metadata": {},
     "output_type": "execute_result"
    }
   ],
   "source": [
    "# Shuffle training dataframe\n",
    "data_df = data_df.sample(frac=1, random_state=42) # shuffle with random_state=42 for reproducibility\n",
    "data_df.head()"
   ]
  },
  {
   "cell_type": "markdown",
   "id": "321b89db",
   "metadata": {
    "papermill": {
     "duration": 0.012842,
     "end_time": "2022-09-28T14:08:46.519907",
     "exception": false,
     "start_time": "2022-09-28T14:08:46.507065",
     "status": "completed"
    },
    "tags": []
   },
   "source": [
    "# Analysis of data"
   ]
  },
  {
   "cell_type": "code",
   "execution_count": 4,
   "id": "0de92534",
   "metadata": {
    "execution": {
     "iopub.execute_input": "2022-09-28T14:08:46.548587Z",
     "iopub.status.busy": "2022-09-28T14:08:46.547912Z",
     "iopub.status.idle": "2022-09-28T14:08:46.562179Z",
     "shell.execute_reply": "2022-09-28T14:08:46.560348Z"
    },
    "papermill": {
     "duration": 0.032854,
     "end_time": "2022-09-28T14:08:46.565825",
     "exception": false,
     "start_time": "2022-09-28T14:08:46.532971",
     "status": "completed"
    },
    "tags": []
   },
   "outputs": [
    {
     "name": "stdout",
     "output_type": "stream",
     "text": [
      "0    32592\n",
      "1    24153\n",
      "Name: Toxicity, dtype: int64\n"
     ]
    }
   ],
   "source": [
    "# How many examples of each class?\n",
    "print(data_df.Toxicity.value_counts())"
   ]
  },
  {
   "cell_type": "code",
   "execution_count": 5,
   "id": "213c3588",
   "metadata": {
    "execution": {
     "iopub.execute_input": "2022-09-28T14:08:46.595690Z",
     "iopub.status.busy": "2022-09-28T14:08:46.594970Z",
     "iopub.status.idle": "2022-09-28T14:08:46.771760Z",
     "shell.execute_reply": "2022-09-28T14:08:46.770505Z"
    },
    "papermill": {
     "duration": 0.194363,
     "end_time": "2022-09-28T14:08:46.774095",
     "exception": false,
     "start_time": "2022-09-28T14:08:46.579732",
     "status": "completed"
    },
    "tags": []
   },
   "outputs": [
    {
     "data": {
      "text/plain": [
       "<AxesSubplot:xlabel='Toxicity', ylabel='count'>"
      ]
     },
     "execution_count": 5,
     "metadata": {},
     "output_type": "execute_result"
    },
    {
     "data": {
      "image/png": "[encoded data removed]",
      "text/plain": [
       "<Figure size 432x288 with 1 Axes>"
      ]
     },
     "metadata": {
      "needs_background": "light"
     },
     "output_type": "display_data"
    }
   ],
   "source": [
    "sns.countplot(x='Toxicity', data=data_df)"
   ]
  },
  {
   "cell_type": "markdown",
   "id": "63b3aa7d",
   "metadata": {
    "papermill": {
     "duration": 0.013876,
     "end_time": "2022-09-28T14:08:46.801960",
     "exception": false,
     "start_time": "2022-09-28T14:08:46.788084",
     "status": "completed"
    },
    "tags": []
   },
   "source": [
    "## View Random Data "
   ]
  },
  {
   "cell_type": "code",
   "execution_count": 6,
   "id": "54c53c0f",
   "metadata": {
    "execution": {
     "iopub.execute_input": "2022-09-28T14:08:46.834654Z",
     "iopub.status.busy": "2022-09-28T14:08:46.833009Z",
     "iopub.status.idle": "2022-09-28T14:08:46.844461Z",
     "shell.execute_reply": "2022-09-28T14:08:46.843201Z"
    },
    "papermill": {
     "duration": 0.030864,
     "end_time": "2022-09-28T14:08:46.848197",
     "exception": false,
     "start_time": "2022-09-28T14:08:46.817333",
     "status": "completed"
    },
    "tags": []
   },
   "outputs": [
    {
     "name": "stdout",
     "output_type": "stream",
     "text": [
      "Target Label:1 (Toxic)\n",
      "Tweet:\n",
      "Gum drop looking bitch commenting on peoples looks\n",
      "-------\n",
      "\n",
      "Target Label:1 (Toxic)\n",
      "Tweet:\n",
      "smooth new year's eve! marijuana unleashed at ibooks.   \n",
      "-------\n",
      "\n",
      "Target Label:0 (Non_Toxic)\n",
      "Tweet:\n",
      "happy fathers day. you are love of my life &amp;the best father in the world. â¤ï¸ð @user #fathersday #love   \n",
      "-------\n",
      "\n",
      "Target Label:0 (Non_Toxic)\n",
      "Tweet:\n",
      "for those of us who lost our wonderful dads too soon, this hard day is almost over. ð  #fathersday  \n",
      "-------\n",
      "\n",
      "Target Label:0 (Non_Toxic)\n",
      "Tweet:\n",
      ".@user if only you'd have gone after #crookedhillary sooner; now you'll spend rest of your life asking yourself \"what if..\"  \n",
      "-------\n",
      "\n",
      "Target Label:1 (Toxic)\n",
      "Tweet:\n",
      "@_dinora_e jk i would be a bitch if i got them done !\n",
      "-------\n",
      "\n",
      "Target Label:1 (Toxic)\n",
      "Tweet:\n",
      "thirsty ass bitches shit dat ion like...\n",
      "-------\n",
      "\n",
      "Target Label:0 (Non_Toxic)\n",
      "Tweet:\n",
      "#blowoutsbringhappiness yet another   client! have you booked your appointment atâ¦ \n",
      "-------\n",
      "\n",
      "Target Label:0 (Non_Toxic)\n",
      "Tweet:\n",
      "had the best peach pancakes and hash browns at @user with @user ! #wildwood #vacation #breakfast  #pancakes #unclebills  \n",
      "-------\n",
      "\n",
      "Target Label:1 (Toxic)\n",
      "Tweet:\n",
      "RT @Cluelessnigga: Fat hoes always wanna beef with somebody, yall don't need to be around no type of beef\n",
      "-------\n",
      "\n"
     ]
    }
   ],
   "source": [
    "class_names = {0: \"Non_Toxic\", 1: \"Toxic\"}\n",
    "for _ in range(10):\n",
    "    random_index = np.random.randint(0,len(data_df))\n",
    "    random_data = data_df.iloc[random_index]\n",
    "    print(f\"Target Label:{random_data['Toxicity']} ({class_names[random_data['Toxicity']]})\")\n",
    "    print(f\"Tweet:\\n{random_data['tweet']}\")\n",
    "    print(\"-------\\n\")\n"
   ]
  },
  {
   "cell_type": "code",
   "execution_count": 7,
   "id": "5a3a736a",
   "metadata": {
    "execution": {
     "iopub.execute_input": "2022-09-28T14:08:46.879850Z",
     "iopub.status.busy": "2022-09-28T14:08:46.879395Z",
     "iopub.status.idle": "2022-09-28T14:08:46.989949Z",
     "shell.execute_reply": "2022-09-28T14:08:46.988537Z"
    },
    "papermill": {
     "duration": 0.12938,
     "end_time": "2022-09-28T14:08:46.992801",
     "exception": false,
     "start_time": "2022-09-28T14:08:46.863421",
     "status": "completed"
    },
    "tags": []
   },
   "outputs": [],
   "source": [
    "import re\n",
    "X = [re.sub('http://\\S+|https://\\S+', '', text) for text in data_df['tweet']]\n",
    "y = data_df['Toxicity'].values"
   ]
  },
  {
   "cell_type": "code",
   "execution_count": 8,
   "id": "22fd563b",
   "metadata": {
    "execution": {
     "iopub.execute_input": "2022-09-28T14:08:47.023438Z",
     "iopub.status.busy": "2022-09-28T14:08:47.022926Z",
     "iopub.status.idle": "2022-09-28T14:08:47.677128Z",
     "shell.execute_reply": "2022-09-28T14:08:47.676152Z"
    },
    "papermill": {
     "duration": 0.673804,
     "end_time": "2022-09-28T14:08:47.680424",
     "exception": false,
     "start_time": "2022-09-28T14:08:47.006620",
     "status": "completed"
    },
    "tags": []
   },
   "outputs": [],
   "source": [
    "from sklearn.model_selection import train_test_split\n",
    "\n",
    "# Use train_test_split to split training data into training and validation sets\n",
    "train_sentences, val_sentences, train_labels, val_labels = train_test_split(np.array(X),\n",
    "                                                                            np.array(y),\n",
    "                                                                            test_size=0.1, # dedicate 10% of samples to validation set\n",
    "                                                                            random_state=42) # random state for reproducibility"
   ]
  },
  {
   "cell_type": "code",
   "execution_count": 9,
   "id": "8269b6b6",
   "metadata": {
    "execution": {
     "iopub.execute_input": "2022-09-28T14:08:47.713450Z",
     "iopub.status.busy": "2022-09-28T14:08:47.712012Z",
     "iopub.status.idle": "2022-09-28T14:08:47.720669Z",
     "shell.execute_reply": "2022-09-28T14:08:47.719701Z"
    },
    "papermill": {
     "duration": 0.027596,
     "end_time": "2022-09-28T14:08:47.722961",
     "exception": false,
     "start_time": "2022-09-28T14:08:47.695365",
     "status": "completed"
    },
    "tags": []
   },
   "outputs": [
    {
     "data": {
      "text/plain": [
       "(51070, 5675, 51070, 5675)"
      ]
     },
     "execution_count": 9,
     "metadata": {},
     "output_type": "execute_result"
    }
   ],
   "source": [
    "len(train_sentences), len(val_sentences), len(train_labels), len(val_labels)"
   ]
  },
  {
   "cell_type": "code",
   "execution_count": 10,
   "id": "c3430ee7",
   "metadata": {
    "execution": {
     "iopub.execute_input": "2022-09-28T14:08:47.754421Z",
     "iopub.status.busy": "2022-09-28T14:08:47.753636Z",
     "iopub.status.idle": "2022-09-28T14:08:47.762086Z",
     "shell.execute_reply": "2022-09-28T14:08:47.760922Z"
    },
    "papermill": {
     "duration": 0.027096,
     "end_time": "2022-09-28T14:08:47.764337",
     "exception": false,
     "start_time": "2022-09-28T14:08:47.737241",
     "status": "completed"
    },
    "tags": []
   },
   "outputs": [
    {
     "data": {
      "text/plain": [
       "(array(['No more SnapChat Selfies. No more Instagram Selfies. No more NOTHING i WILL NOT be a bad bitch a week man what am I going to do &#128546;&#128299;',\n",
       "        \"@c_drew_ I'm guessing so. The players are talking trash.\",\n",
       "        'RT @RihannaHasAids: if I got hoes.. @ one of my hoes.. if not shutup &amp; never say it again',\n",
       "        ' @user @user @user now with  your guy bailing after meeting with the doj, that tells us indictment is unlikely.   #â\\x80¦',\n",
       "        'thank god for another day#dailyappreciation  wednesday everyone!!!!!!!',\n",
       "        'your word i have treasured in my hea. (psalm 119:11) #vlicobs #xoxo #love #grace   #amenâ\\x80¦ ',\n",
       "        \"RT @Gook____: Lil stupid ass bitch I don't fuck with YOU!!&#128564;\",\n",
       "        \"RT @TreySongzSon: I'm in yo hood I'll prolly fuck yo hoe\",\n",
       "        '- i learned not to mourn so not woh !!  life is too sho to waste time on trifles !!    :p :) :d',\n",
       "        \"i hope the guy won't say how come  only trump gets to speak his mind ð\\x9f\\x98\\xad..people! enough with the pc already #sarcasmâ\\x80¦ \"],\n",
       "       dtype='<U754'),\n",
       " array([1, 1, 1, 0, 0, 0, 1, 1, 0, 1]))"
      ]
     },
     "execution_count": 10,
     "metadata": {},
     "output_type": "execute_result"
    }
   ],
   "source": [
    "train_sentences[:10], train_labels[:10]"
   ]
  },
  {
   "cell_type": "code",
   "execution_count": 11,
   "id": "621a4eba",
   "metadata": {
    "execution": {
     "iopub.execute_input": "2022-09-28T14:08:47.796884Z",
     "iopub.status.busy": "2022-09-28T14:08:47.796416Z",
     "iopub.status.idle": "2022-09-28T14:08:54.681503Z",
     "shell.execute_reply": "2022-09-28T14:08:54.679916Z"
    },
    "papermill": {
     "duration": 6.905771,
     "end_time": "2022-09-28T14:08:54.684639",
     "exception": false,
     "start_time": "2022-09-28T14:08:47.778868",
     "status": "completed"
    },
    "tags": []
   },
   "outputs": [
    {
     "name": "stderr",
     "output_type": "stream",
     "text": [
      "2022-09-28 14:08:54.643313: I tensorflow/core/common_runtime/process_util.cc:146] Creating new thread pool with default inter op setting: 2. Tune using inter_op_parallelism_threads for best performance.\n"
     ]
    }
   ],
   "source": [
    "import tensorflow as tf\n",
    "from tensorflow.keras.layers import TextVectorization\n",
    "\n",
    "# Use the default TextVectorization variables\n",
    "text_vectorizer = TextVectorization(max_tokens=None, # how many words in the vocabulary (all of the different words in your text)\n",
    "                                    standardize=\"lower_and_strip_punctuation\", # how to process text\n",
    "                                    split=\"whitespace\", # how to split tokens\n",
    "                                    ngrams=None, # create groups of n-words?\n",
    "                                    output_mode=\"int\", # how to map tokens to numbers\n",
    "                                    output_sequence_length=None) # how long should the output sequence of tokens be?\n",
    "                                    # pad_to_max_tokens=True) # Not valid if using max_tokens=None"
   ]
  },
  {
   "cell_type": "markdown",
   "id": "6ee15946",
   "metadata": {
    "papermill": {
     "duration": 0.013739,
     "end_time": "2022-09-28T14:08:54.712655",
     "exception": false,
     "start_time": "2022-09-28T14:08:54.698916",
     "status": "completed"
    },
    "tags": []
   },
   "source": [
    "\n",
    "We've initialized a `TextVectorization` object with the default settings but let's customize it a little bit for our own use case.\n",
    "\n",
    "In particular, let's set values for `max_tokens` and `output_sequence_length`.\n",
    "\n",
    "For `max_tokens` (the number of words in the vocabulary), multiples of 10,000 (10,000, 20,000, 30,000) or the exact number of unique words in your text (e.g. 32,179) are common values.\n",
    "\n",
    "For our use case, we'll use 10,000.\n",
    "\n",
    "And for the `output_sequence_length` we'll use the average number of tokens per Tweet in the training set. But first, we'll need to find it."
   ]
  },
  {
   "cell_type": "code",
   "execution_count": 12,
   "id": "d16b49d7",
   "metadata": {
    "execution": {
     "iopub.execute_input": "2022-09-28T14:08:54.743412Z",
     "iopub.status.busy": "2022-09-28T14:08:54.742553Z",
     "iopub.status.idle": "2022-09-28T14:08:54.955495Z",
     "shell.execute_reply": "2022-09-28T14:08:54.954280Z"
    },
    "papermill": {
     "duration": 0.231632,
     "end_time": "2022-09-28T14:08:54.958316",
     "exception": false,
     "start_time": "2022-09-28T14:08:54.726684",
     "status": "completed"
    },
    "tags": []
   },
   "outputs": [
    {
     "data": {
      "text/plain": [
       "14"
      ]
     },
     "execution_count": 12,
     "metadata": {},
     "output_type": "execute_result"
    }
   ],
   "source": [
    "\n",
    "# Find average number of tokens (words) in training Tweets\n",
    "round(sum([len(i.split()) for i in train_sentences])/len(train_sentences))"
   ]
  },
  {
   "cell_type": "code",
   "execution_count": 13,
   "id": "89547640",
   "metadata": {
    "execution": {
     "iopub.execute_input": "2022-09-28T14:08:54.990356Z",
     "iopub.status.busy": "2022-09-28T14:08:54.989560Z",
     "iopub.status.idle": "2022-09-28T14:08:54.999229Z",
     "shell.execute_reply": "2022-09-28T14:08:54.997534Z"
    },
    "papermill": {
     "duration": 0.029548,
     "end_time": "2022-09-28T14:08:55.002050",
     "exception": false,
     "start_time": "2022-09-28T14:08:54.972502",
     "status": "completed"
    },
    "tags": []
   },
   "outputs": [],
   "source": [
    "max_vocab_length = 10000 \n",
    "max_length = 15 # max length our sequences will be (e.g. how many words from a Tweet does our model see?)\n",
    "\n",
    "text_vectorizer = TextVectorization(max_tokens=max_vocab_length,\n",
    "                                    output_mode=\"int\",\n",
    "                                    output_sequence_length=max_length)"
   ]
  },
  {
   "cell_type": "markdown",
   "id": "ea81db88",
   "metadata": {
    "papermill": {
     "duration": 0.013819,
     "end_time": "2022-09-28T14:08:55.030819",
     "exception": false,
     "start_time": "2022-09-28T14:08:55.017000",
     "status": "completed"
    },
    "tags": []
   },
   "source": [
    "Beautiful!\n",
    "\n",
    "To map our TextVectorization instance `text_vectorizer` to our data, we can call the `adapt()` method on it whilst passing it our training text."
   ]
  },
  {
   "cell_type": "code",
   "execution_count": 14,
   "id": "b5c8bb0b",
   "metadata": {
    "execution": {
     "iopub.execute_input": "2022-09-28T14:08:55.061733Z",
     "iopub.status.busy": "2022-09-28T14:08:55.060957Z",
     "iopub.status.idle": "2022-09-28T14:08:57.052500Z",
     "shell.execute_reply": "2022-09-28T14:08:57.051014Z"
    },
    "papermill": {
     "duration": 2.010653,
     "end_time": "2022-09-28T14:08:57.055493",
     "exception": false,
     "start_time": "2022-09-28T14:08:55.044840",
     "status": "completed"
    },
    "tags": []
   },
   "outputs": [
    {
     "name": "stderr",
     "output_type": "stream",
     "text": [
      "2022-09-28 14:08:55.243766: I tensorflow/compiler/mlir/mlir_graph_optimization_pass.cc:185] None of the MLIR Optimization Passes are enabled (registered 2)\n"
     ]
    }
   ],
   "source": [
    "\n",
    "# Fit the text vectorizer to the training text\n",
    "text_vectorizer.adapt(train_sentences)"
   ]
  },
  {
   "cell_type": "code",
   "execution_count": 15,
   "id": "7c7e6b9c",
   "metadata": {
    "execution": {
     "iopub.execute_input": "2022-09-28T14:08:57.099894Z",
     "iopub.status.busy": "2022-09-28T14:08:57.096785Z",
     "iopub.status.idle": "2022-09-28T14:08:57.181472Z",
     "shell.execute_reply": "2022-09-28T14:08:57.180278Z"
    },
    "papermill": {
     "duration": 0.113302,
     "end_time": "2022-09-28T14:08:57.184008",
     "exception": false,
     "start_time": "2022-09-28T14:08:57.070706",
     "status": "completed"
    },
    "tags": []
   },
   "outputs": [
    {
     "data": {
      "text/plain": [
       "<tf.Tensor: shape=(1, 15), dtype=int64, numpy=\n",
       "array([[ 514,    4, 8584,   10,   12,  922,    0,    0,    0,    0,    0,\n",
       "           0,    0,    0,    0]])>"
      ]
     },
     "execution_count": 15,
     "metadata": {},
     "output_type": "execute_result"
    }
   ],
   "source": [
    "# Create sample sentence and tokenize it\n",
    "sample_sentence = \"There's a flood in my street!\"\n",
    "text_vectorizer([sample_sentence])"
   ]
  },
  {
   "cell_type": "code",
   "execution_count": 16,
   "id": "c7b8b1d7",
   "metadata": {
    "execution": {
     "iopub.execute_input": "2022-09-28T14:08:57.216026Z",
     "iopub.status.busy": "2022-09-28T14:08:57.215004Z",
     "iopub.status.idle": "2022-09-28T14:08:57.245475Z",
     "shell.execute_reply": "2022-09-28T14:08:57.243883Z"
    },
    "papermill": {
     "duration": 0.049718,
     "end_time": "2022-09-28T14:08:57.248401",
     "exception": false,
     "start_time": "2022-09-28T14:08:57.198683",
     "status": "completed"
    },
    "tags": []
   },
   "outputs": [
    {
     "name": "stdout",
     "output_type": "stream",
     "text": [
      "Number of words in vocab: 10000\n",
      "Top 5 most common words: ['', '[UNK]', 'user', 'the', 'a']\n",
      "Bottom 5 least common words: ['libra', 'lettuce', 'lettherainefall', 'letters', 'lethal']\n"
     ]
    }
   ],
   "source": [
    "# Get the unique words in the vocabulary\n",
    "words_in_vocab = text_vectorizer.get_vocabulary()\n",
    "top_5_words = words_in_vocab[:5] # most common tokens (notice the [UNK] token for \"unknown\" words)\n",
    "bottom_5_words = words_in_vocab[-5:] # least common tokens\n",
    "print(f\"Number of words in vocab: {len(words_in_vocab)}\")\n",
    "print(f\"Top 5 most common words: {top_5_words}\") \n",
    "print(f\"Bottom 5 least common words: {bottom_5_words}\")"
   ]
  },
  {
   "cell_type": "markdown",
   "id": "95bd8a85",
   "metadata": {
    "papermill": {
     "duration": 0.014385,
     "end_time": "2022-09-28T14:08:57.277528",
     "exception": false,
     "start_time": "2022-09-28T14:08:57.263143",
     "status": "completed"
    },
    "tags": []
   },
   "source": [
    "Creating an Embedding using an Embedding Layer\n",
    "We've got a way to map our text to numbers. How about we go a step further and turn those numbers into an embedding?\n",
    "\n",
    "The powerful thing about an embedding is it can be learned during training. This means rather than just being static (e.g. `1` = I, `2` = love, `3` = TensorFlow), a word's numeric representation can be improved as a model goes through data samples.\n",
    "\n",
    "We can see what an embedding of a word looks like by using the `tf.keras.layers.Embedding` layer.\n",
    "\n",
    "The main parameters we're concerned about here are:\n",
    "\n",
    "`input_dim` - The size of the vocabulary (e.g. len(text_vectorizer.get_vocabulary()).\n",
    "`output_dim` - The size of the output embedding vector, for example, a value of 100 outputs a feature vector of size 100 for each word.\n",
    "`embeddings_initializer` - How to initialize the embeddings matrix, default is \"uniform\" which randomly initalizes embedding matrix with uniform distribution. This can be changed for using pre-learned embeddings.\n",
    "`input_length` - Length of sequences being passed to embedding layer.\n",
    "Knowing these, let's make an embedding layer."
   ]
  },
  {
   "cell_type": "code",
   "execution_count": 17,
   "id": "7a48b55c",
   "metadata": {
    "execution": {
     "iopub.execute_input": "2022-09-28T14:08:57.309374Z",
     "iopub.status.busy": "2022-09-28T14:08:57.308886Z",
     "iopub.status.idle": "2022-09-28T14:08:57.323207Z",
     "shell.execute_reply": "2022-09-28T14:08:57.321898Z"
    },
    "papermill": {
     "duration": 0.032986,
     "end_time": "2022-09-28T14:08:57.325511",
     "exception": false,
     "start_time": "2022-09-28T14:08:57.292525",
     "status": "completed"
    },
    "tags": []
   },
   "outputs": [
    {
     "data": {
      "text/plain": [
       "<keras.layers.embeddings.Embedding at 0x7f6700ad2b90>"
      ]
     },
     "execution_count": 17,
     "metadata": {},
     "output_type": "execute_result"
    }
   ],
   "source": [
    "tf.random.set_seed(42)\n",
    "from tensorflow.keras import layers\n",
    "\n",
    "embedding = layers.Embedding(input_dim=max_vocab_length, # set input shape\n",
    "                             output_dim=128, # set size of embedding vector\n",
    "                             embeddings_initializer=\"uniform\", # default, intialize randomly\n",
    "                             input_length=max_length, # how long is each input\n",
    "                             name=\"embedding_1\") \n",
    "\n",
    "embedding"
   ]
  },
  {
   "cell_type": "markdown",
   "id": "6e2c9e9f",
   "metadata": {
    "papermill": {
     "duration": 0.014426,
     "end_time": "2022-09-28T14:08:57.354834",
     "exception": false,
     "start_time": "2022-09-28T14:08:57.340408",
     "status": "completed"
    },
    "tags": []
   },
   "source": [
    "\n",
    "Excellent, notice how `embedding` is a TensoFlow layer? This is important because we can use it as part of a model, meaning its parameters (word representations) can be updated and improved as the model learns.\n",
    "\n",
    "How about we try it out on a sample sentence?"
   ]
  },
  {
   "cell_type": "code",
   "execution_count": 18,
   "id": "6df6fe8e",
   "metadata": {
    "execution": {
     "iopub.execute_input": "2022-09-28T14:08:57.386705Z",
     "iopub.status.busy": "2022-09-28T14:08:57.386295Z",
     "iopub.status.idle": "2022-09-28T14:08:57.434587Z",
     "shell.execute_reply": "2022-09-28T14:08:57.432893Z"
    },
    "papermill": {
     "duration": 0.067415,
     "end_time": "2022-09-28T14:08:57.437267",
     "exception": false,
     "start_time": "2022-09-28T14:08:57.369852",
     "status": "completed"
    },
    "tags": []
   },
   "outputs": [
    {
     "name": "stdout",
     "output_type": "stream",
     "text": [
      "Original text:\n",
      "  @user #girls winners of under 12/13 #girls #batharsenal tournament #wecanplay       \n",
      "\n",
      "Embedded version:\n"
     ]
    },
    {
     "data": {
      "text/plain": [
       "<tf.Tensor: shape=(1, 15, 128), dtype=float32, numpy=\n",
       "array([[[ 0.02504804,  0.02770906,  0.01542609, ..., -0.04612003,\n",
       "         -0.02924401, -0.00331711],\n",
       "        [ 0.00163989,  0.01052092,  0.01279528, ..., -0.01638258,\n",
       "          0.03507607, -0.01268239],\n",
       "        [ 0.00874683, -0.03785013,  0.03305971, ...,  0.01537159,\n",
       "          0.01672088,  0.04221293],\n",
       "        ...,\n",
       "        [ 0.01645621, -0.00589932, -0.01471175, ..., -0.02511839,\n",
       "          0.00912381, -0.00024097],\n",
       "        [ 0.01645621, -0.00589932, -0.01471175, ..., -0.02511839,\n",
       "          0.00912381, -0.00024097],\n",
       "        [ 0.01645621, -0.00589932, -0.01471175, ..., -0.02511839,\n",
       "          0.00912381, -0.00024097]]], dtype=float32)>"
      ]
     },
     "execution_count": 18,
     "metadata": {},
     "output_type": "execute_result"
    }
   ],
   "source": [
    "# Get a random sentence from training set\n",
    "random_sentence = random.choice(train_sentences)\n",
    "print(f\"Original text:\\n{random_sentence}\\\n",
    "      \\n\\nEmbedded version:\")\n",
    "\n",
    "# Embed the random sentence (turn it into numerical representation)\n",
    "sample_embed = embedding(text_vectorizer([random_sentence]))\n",
    "sample_embed"
   ]
  },
  {
   "cell_type": "markdown",
   "id": "20a029c9",
   "metadata": {
    "papermill": {
     "duration": 0.01502,
     "end_time": "2022-09-28T14:08:57.467155",
     "exception": false,
     "start_time": "2022-09-28T14:08:57.452135",
     "status": "completed"
    },
    "tags": []
   },
   "source": [
    "\n",
    "These values might not mean much to us but they're what our computer sees each word as. When our model looks for patterns in different samples, these values will be updated as necessary."
   ]
  },
  {
   "cell_type": "markdown",
   "id": "a3717d93",
   "metadata": {
    "papermill": {
     "duration": 0.015148,
     "end_time": "2022-09-28T14:08:57.497744",
     "exception": false,
     "start_time": "2022-09-28T14:08:57.482596",
     "status": "completed"
    },
    "tags": []
   },
   "source": [
    "# Create a Model "
   ]
  },
  {
   "cell_type": "markdown",
   "id": "b9f256c2",
   "metadata": {
    "papermill": {
     "duration": 0.014796,
     "end_time": "2022-09-28T14:08:57.527841",
     "exception": false,
     "start_time": "2022-09-28T14:08:57.513045",
     "status": "completed"
    },
    "tags": []
   },
   "source": [
    "## Model 1: \n",
    "\n",
    "Simplest Model with embedding which will be trained. \n",
    "\n",
    "`optimizer` : `Adam` \n",
    "\n",
    "`loss`: `binary_crossentropy`"
   ]
  },
  {
   "cell_type": "code",
   "execution_count": 19,
   "id": "67d39d6e",
   "metadata": {
    "execution": {
     "iopub.execute_input": "2022-09-28T14:08:57.559153Z",
     "iopub.status.busy": "2022-09-28T14:08:57.558641Z",
     "iopub.status.idle": "2022-09-28T14:08:57.631836Z",
     "shell.execute_reply": "2022-09-28T14:08:57.630355Z"
    },
    "papermill": {
     "duration": 0.091813,
     "end_time": "2022-09-28T14:08:57.634297",
     "exception": false,
     "start_time": "2022-09-28T14:08:57.542484",
     "status": "completed"
    },
    "tags": []
   },
   "outputs": [
    {
     "name": "stdout",
     "output_type": "stream",
     "text": [
      "Model: \"model_1_dense\"\n",
      "_________________________________________________________________\n",
      "Layer (type)                 Output Shape              Param #   \n",
      "=================================================================\n",
      "input_1 (InputLayer)         [(None, 1)]               0         \n",
      "_________________________________________________________________\n",
      "text_vectorization_1 (TextVe (None, 15)                0         \n",
      "_________________________________________________________________\n",
      "embedding_1 (Embedding)      (None, 15, 128)           1280000   \n",
      "_________________________________________________________________\n",
      "global_average_pooling1d (Gl (None, 128)               0         \n",
      "_________________________________________________________________\n",
      "dense (Dense)                (None, 1)                 129       \n",
      "=================================================================\n",
      "Total params: 1,280,129\n",
      "Trainable params: 1,280,129\n",
      "Non-trainable params: 0\n",
      "_________________________________________________________________\n"
     ]
    }
   ],
   "source": [
    "from tensorflow.keras import layers\n",
    "\n",
    "inputs = layers.Input(shape=(1,), dtype = 'string') \n",
    "x = text_vectorizer(inputs)\n",
    "x = embedding(x)\n",
    "x = layers.GlobalAveragePooling1D()(x)\n",
    "outputs = layers.Dense(1, activation='sigmoid')(x)\n",
    "\n",
    "model_1 = tf.keras.Model(inputs, outputs, name='model_1_dense')\n",
    "model_1.compile(loss='binary_crossentropy',\n",
    "               optimizer = tf.keras.optimizers.Adam(learning_rate = 0.001),\n",
    "               metrics = [\"accuracy\"])\n",
    "model_1.summary()"
   ]
  },
  {
   "cell_type": "code",
   "execution_count": 20,
   "id": "20bfdf10",
   "metadata": {
    "execution": {
     "iopub.execute_input": "2022-09-28T14:08:57.668987Z",
     "iopub.status.busy": "2022-09-28T14:08:57.667560Z",
     "iopub.status.idle": "2022-09-28T14:10:20.539848Z",
     "shell.execute_reply": "2022-09-28T14:10:20.538898Z"
    },
    "papermill": {
     "duration": 82.893031,
     "end_time": "2022-09-28T14:10:20.542778",
     "exception": false,
     "start_time": "2022-09-28T14:08:57.649747",
     "status": "completed"
    },
    "tags": []
   },
   "outputs": [
    {
     "name": "stdout",
     "output_type": "stream",
     "text": [
      "Epoch 1/3\n",
      "1596/1596 [==============================] - 20s 12ms/step - loss: 0.2931 - accuracy: 0.8851 - val_loss: 0.2052 - val_accuracy: 0.9200\n",
      "Epoch 2/3\n",
      "1596/1596 [==============================] - 19s 12ms/step - loss: 0.1692 - accuracy: 0.9337 - val_loss: 0.1938 - val_accuracy: 0.9233\n",
      "Epoch 3/3\n",
      "1596/1596 [==============================] - 19s 12ms/step - loss: 0.1442 - accuracy: 0.9444 - val_loss: 0.2043 - val_accuracy: 0.9214\n"
     ]
    }
   ],
   "source": [
    "history_1 = model_1.fit(train_sentences, train_labels,\n",
    "           epochs =3,\n",
    "           validation_data = (val_sentences, val_labels))\n"
   ]
  },
  {
   "cell_type": "code",
   "execution_count": 21,
   "id": "1629d0af",
   "metadata": {
    "execution": {
     "iopub.execute_input": "2022-09-28T14:10:20.698370Z",
     "iopub.status.busy": "2022-09-28T14:10:20.697953Z",
     "iopub.status.idle": "2022-09-28T14:10:21.034021Z",
     "shell.execute_reply": "2022-09-28T14:10:21.032559Z"
    },
    "papermill": {
     "duration": 0.416742,
     "end_time": "2022-09-28T14:10:21.037022",
     "exception": false,
     "start_time": "2022-09-28T14:10:20.620280",
     "status": "completed"
    },
    "tags": []
   },
   "outputs": [
    {
     "name": "stdout",
     "output_type": "stream",
     "text": [
      "178/178 [==============================] - 0s 1ms/step - loss: 0.2043 - accuracy: 0.9214\n"
     ]
    }
   ],
   "source": [
    "model_1_evaluate = model_1.evaluate(val_sentences, val_labels)"
   ]
  },
  {
   "cell_type": "code",
   "execution_count": 22,
   "id": "1017e8e0",
   "metadata": {
    "execution": {
     "iopub.execute_input": "2022-09-28T14:10:21.190033Z",
     "iopub.status.busy": "2022-09-28T14:10:21.189569Z",
     "iopub.status.idle": "2022-09-28T14:10:21.533752Z",
     "shell.execute_reply": "2022-09-28T14:10:21.532498Z"
    },
    "papermill": {
     "duration": 0.423922,
     "end_time": "2022-09-28T14:10:21.536092",
     "exception": false,
     "start_time": "2022-09-28T14:10:21.112170",
     "status": "completed"
    },
    "tags": []
   },
   "outputs": [
    {
     "data": {
      "image/png": "[encoded data removed]",
      "text/plain": [
       "<Figure size 432x288 with 1 Axes>"
      ]
     },
     "metadata": {
      "needs_background": "light"
     },
     "output_type": "display_data"
    },
    {
     "data": {
      "image/png": "[encoded data removed]",
      "text/plain": [
       "<Figure size 432x288 with 1 Axes>"
      ]
     },
     "metadata": {
      "needs_background": "light"
     },
     "output_type": "display_data"
    }
   ],
   "source": [
    "def plot_graphs(history, string):\n",
    "  plt.plot(history.history[string])\n",
    "  plt.plot(history.history['val_'+string])\n",
    "  plt.xlabel(\"Epochs\")\n",
    "  plt.ylabel(string)\n",
    "  plt.legend([string, 'val_'+string])\n",
    "  plt.show()\n",
    "  \n",
    "plot_graphs(history_1, \"accuracy\")\n",
    "plot_graphs(history_1, \"loss\")"
   ]
  },
  {
   "cell_type": "markdown",
   "id": "dbe3ccb1",
   "metadata": {
    "papermill": {
     "duration": 0.074482,
     "end_time": "2022-09-28T14:10:21.686135",
     "exception": false,
     "start_time": "2022-09-28T14:10:21.611653",
     "status": "completed"
    },
    "tags": []
   },
   "source": [
    "## Visualizing learned Embeddings\n",
    "\n",
    "Our first model (`model_1`) contained an embedding layer (`embedding`) which learned a way of representing words as feature vectors by passing over the training data.\n",
    "\n",
    "Hearing this for the first few times may sound confusing.\n",
    "\n",
    "So to further help understand what a text embedding is, let's visualize the embedding our model learned."
   ]
  },
  {
   "cell_type": "markdown",
   "id": "dd690b82",
   "metadata": {
    "papermill": {
     "duration": 0.073561,
     "end_time": "2022-09-28T14:10:21.833069",
     "exception": false,
     "start_time": "2022-09-28T14:10:21.759508",
     "status": "completed"
    },
    "tags": []
   },
   "source": [
    "And now let's get our embedding layer's weights (these are the numerical representations of each word)."
   ]
  },
  {
   "cell_type": "code",
   "execution_count": 23,
   "id": "3716d228",
   "metadata": {
    "execution": {
     "iopub.execute_input": "2022-09-28T14:10:21.984178Z",
     "iopub.status.busy": "2022-09-28T14:10:21.983711Z",
     "iopub.status.idle": "2022-09-28T14:10:21.996514Z",
     "shell.execute_reply": "2022-09-28T14:10:21.994885Z"
    },
    "papermill": {
     "duration": 0.09227,
     "end_time": "2022-09-28T14:10:21.998986",
     "exception": false,
     "start_time": "2022-09-28T14:10:21.906716",
     "status": "completed"
    },
    "tags": []
   },
   "outputs": [
    {
     "name": "stdout",
     "output_type": "stream",
     "text": [
      "(10000, 128)\n"
     ]
    }
   ],
   "source": [
    "# Get the weight matrix of embedding layer \n",
    "# (these are the numerical patterns between the text in the training dataset the model has learned)\n",
    "embed_weights = model_1.get_layer(\"embedding_1\").get_weights()[0]\n",
    "print(embed_weights.shape) # same size as vocab size and embedding_dim (each word is a embedding_dim size vector)"
   ]
  },
  {
   "cell_type": "markdown",
   "id": "a669aeec",
   "metadata": {
    "papermill": {
     "duration": 0.073453,
     "end_time": "2022-09-28T14:10:22.147576",
     "exception": false,
     "start_time": "2022-09-28T14:10:22.074123",
     "status": "completed"
    },
    "tags": []
   },
   "source": [
    "Now we've got these two objects, we can use the [Embedding Projector tool](http://projector.tensorflow.org/) to visualize our embedding.\n",
    "\n",
    "To use the Embedding Projector tool, we need two files:\n",
    "\n",
    "The embedding vectors (same as embedding weights).\n",
    "The meta data of the embedding vectors (the words they represent - our vocabulary).\n",
    "Right now, we've got of these files as Python objects. To download them to file, we're going to [use the code example available on the TensorFlow word embeddings tutorial page.](https://www.tensorflow.org/tutorials/text/word_embeddings#retrieve_the_trained_word_embeddings_and_save_them_to_disk)"
   ]
  },
  {
   "cell_type": "code",
   "execution_count": 24,
   "id": "d6dd7891",
   "metadata": {
    "execution": {
     "iopub.execute_input": "2022-09-28T14:10:22.297980Z",
     "iopub.status.busy": "2022-09-28T14:10:22.297589Z",
     "iopub.status.idle": "2022-09-28T14:10:23.407180Z",
     "shell.execute_reply": "2022-09-28T14:10:23.406053Z"
    },
    "papermill": {
     "duration": 1.188295,
     "end_time": "2022-09-28T14:10:23.410071",
     "exception": false,
     "start_time": "2022-09-28T14:10:22.221776",
     "status": "completed"
    },
    "tags": []
   },
   "outputs": [
    {
     "name": "stdout",
     "output_type": "stream",
     "text": [
      "__notebook__.ipynb\r\n"
     ]
    }
   ],
   "source": [
    "!ls ../working"
   ]
  },
  {
   "cell_type": "code",
   "execution_count": 25,
   "id": "b26530c5",
   "metadata": {
    "execution": {
     "iopub.execute_input": "2022-09-28T14:10:23.566457Z",
     "iopub.status.busy": "2022-09-28T14:10:23.565585Z",
     "iopub.status.idle": "2022-09-28T14:10:24.531666Z",
     "shell.execute_reply": "2022-09-28T14:10:24.530396Z"
    },
    "papermill": {
     "duration": 1.046711,
     "end_time": "2022-09-28T14:10:24.534839",
     "exception": false,
     "start_time": "2022-09-28T14:10:23.488128",
     "status": "completed"
    },
    "tags": []
   },
   "outputs": [],
   "source": [
    "# Code below is adapted from: https://www.tensorflow.org/tutorials/text/word_embeddings#retrieve_the_trained_word_embeddings_and_save_them_to_disk\n",
    "import io\n",
    "\n",
    "# Create output writers\n",
    "out_v = io.open(\"../working/embedding_vectors.tsv\", \"w\", encoding=\"utf-8\")\n",
    "out_m = io.open(\"../working/embedding_metadata.tsv\", \"w\", encoding=\"utf-8\")\n",
    "\n",
    "# Write embedding vectors and words to file\n",
    "for num, word in enumerate(words_in_vocab):\n",
    "  if num == 0: \n",
    "     continue # skip padding token\n",
    "  vec = embed_weights[num]\n",
    "  out_m.write(word + \"\\n\") # write words to file\n",
    "  out_v.write(\"\\t\".join([str(x) for x in vec]) + \"\\n\") # write corresponding word vector to file\n",
    "out_v.close()\n",
    "out_m.close()"
   ]
  },
  {
   "cell_type": "code",
   "execution_count": 26,
   "id": "b386d5d5",
   "metadata": {
    "execution": {
     "iopub.execute_input": "2022-09-28T14:10:24.693140Z",
     "iopub.status.busy": "2022-09-28T14:10:24.692689Z",
     "iopub.status.idle": "2022-09-28T14:10:24.700016Z",
     "shell.execute_reply": "2022-09-28T14:10:24.698939Z"
    },
    "papermill": {
     "duration": 0.089492,
     "end_time": "2022-09-28T14:10:24.702491",
     "exception": false,
     "start_time": "2022-09-28T14:10:24.612999",
     "status": "completed"
    },
    "tags": []
   },
   "outputs": [
    {
     "data": {
      "text/html": [
       "<a href='embedding_vectors.tsv' target='_blank'>embedding_vectors.tsv</a><br>"
      ],
      "text/plain": [
       "/kaggle/working/embedding_vectors.tsv"
      ]
     },
     "execution_count": 26,
     "metadata": {},
     "output_type": "execute_result"
    }
   ],
   "source": [
    "from IPython.display import FileLink\n",
    "FileLink('embedding_vectors.tsv')"
   ]
  },
  {
   "cell_type": "code",
   "execution_count": 27,
   "id": "d1405d82",
   "metadata": {
    "execution": {
     "iopub.execute_input": "2022-09-28T14:10:24.880407Z",
     "iopub.status.busy": "2022-09-28T14:10:24.879726Z",
     "iopub.status.idle": "2022-09-28T14:10:24.886929Z",
     "shell.execute_reply": "2022-09-28T14:10:24.886109Z"
    },
    "papermill": {
     "duration": 0.111399,
     "end_time": "2022-09-28T14:10:24.889798",
     "exception": false,
     "start_time": "2022-09-28T14:10:24.778399",
     "status": "completed"
    },
    "tags": []
   },
   "outputs": [
    {
     "data": {
      "text/html": [
       "<a href='embedding_metadata.tsv' target='_blank'>embedding_metadata.tsv</a><br>"
      ],
      "text/plain": [
       "/kaggle/working/embedding_metadata.tsv"
      ]
     },
     "execution_count": 27,
     "metadata": {},
     "output_type": "execute_result"
    }
   ],
   "source": [
    "FileLink('embedding_metadata.tsv')"
   ]
  },
  {
   "cell_type": "markdown",
   "id": "2327c8a7",
   "metadata": {
    "papermill": {
     "duration": 0.082147,
     "end_time": "2022-09-28T14:10:25.084640",
     "exception": false,
     "start_time": "2022-09-28T14:10:25.002493",
     "status": "completed"
    },
    "tags": []
   },
   "source": [
    "\n",
    "Once you've downloaded the embedding vectors and metadata, you can visualize them using Embedding Vector tool:\n",
    "\n",
    "1. Go to http://projector.tensorflow.org/\n",
    "2. Click on \"Load data\"\n",
    "3. Upload the two files you downloaded (embedding_vectors.tsv and embedding_metadata.tsv)\n",
    "4. Explore\n",
    "\n",
    "Are words with similar meanings close together?\n",
    "\n",
    "Remember, they might not be. The embeddings we downloaded are how our model interprets words, not necessarily how we interpret them.\n",
    "\n",
    "Also, since the embedding has been learned purely from Tweets, it may contain some strange values as Tweets are a very unique style of natural language."
   ]
  },
  {
   "cell_type": "markdown",
   "id": "58db7a2b",
   "metadata": {
    "papermill": {
     "duration": 0.096091,
     "end_time": "2022-09-28T14:10:25.261373",
     "exception": false,
     "start_time": "2022-09-28T14:10:25.165282",
     "status": "completed"
    },
    "tags": []
   },
   "source": [
    "![](https://i.imgur.com/pVcrt2V.jpg)"
   ]
  },
  {
   "cell_type": "markdown",
   "id": "fd207836",
   "metadata": {
    "papermill": {
     "duration": 0.079477,
     "end_time": "2022-09-28T14:10:25.421313",
     "exception": false,
     "start_time": "2022-09-28T14:10:25.341836",
     "status": "completed"
    },
    "tags": []
   },
   "source": [
    "You can see there are two dense parts one in left and another in right side. Are these our two classes `Toxicity` and `Non-Toxicity`. Yes, embeddings are learning words and positive words are getting one side and negative words going on negative side. \n",
    "\n",
    "There is possibility words are neutral those can be seen in between space."
   ]
  },
  {
   "cell_type": "markdown",
   "id": "87a1bb18",
   "metadata": {
    "papermill": {
     "duration": 0.077253,
     "end_time": "2022-09-28T14:10:25.576633",
     "exception": false,
     "start_time": "2022-09-28T14:10:25.499380",
     "status": "completed"
    },
    "tags": []
   },
   "source": [
    "# Model 2"
   ]
  },
  {
   "cell_type": "markdown",
   "id": "e70a5546",
   "metadata": {
    "papermill": {
     "duration": 0.079189,
     "end_time": "2022-09-28T14:10:25.735000",
     "exception": false,
     "start_time": "2022-09-28T14:10:25.655811",
     "status": "completed"
    },
    "tags": []
   },
   "source": [
    "In this model_2 we will try to use **RNN (Recurrent Neural Networks)**\n",
    "\n",
    "The premise of an RNN is simple: use information from the past to help you with the future (this is where the term recurrent comes from). In other words, take an input (X) and compute an output (y) based on all previous inputs.\n",
    "\n",
    "This concept is especially helpful when dealing with sequences such as passages of natural language text (such as our Tweets).\n",
    "\n",
    "\n",
    "Recurrent Neural Networks (RNN's)\n",
    "For our next series of modelling experiments we're going to be using a special kind of neural network called a Recurrent Neural Network (RNN).\n",
    "\n",
    "The premise of an RNN is simple: use information from the past to help you with the future (this is where the term recurrent comes from). In other words, take an input (X) and compute an output (y) based on all previous inputs.\n",
    "\n",
    "This concept is especially helpful when dealing with sequences such as passages of natural language text (such as our Tweets).\n",
    "\n",
    "For example, when you read this sentence, you take into context the previous words when deciphering the meaning of the current word dog.\n",
    "\n",
    "See what happened there?\n",
    "\n",
    "I put the word \"dog\" at the end which is a valid word but it doesn't make sense in the context of the rest of the sentence.\n",
    "\n",
    "When an RNN looks at a sequence of text (already in numerical form), the patterns it learns are continually updated based on the order of the sequence.\n",
    "\n",
    "For a simple example, take two sentences:\n",
    "\n",
    "Massive earthquake last week, no?\n",
    "No massive earthquake last week.\n",
    "Both contain exactly the same words but have different meaning. The order of the words determines the meaning (one could argue punctuation marks also dictate the meaning but for simplicity sake, let's stay focused on the words).\n",
    "\n",
    "Recurrent neural networks can be used for a number of sequence-based problems:\n",
    "\n",
    "1. **One to one:** one input, one output, such as image classification.\n",
    "2. **One to many:** one input, many outputs, such as image captioning (image input, a sequence of text as caption output).\n",
    "3. **Many to one:** many inputs, one outputs, such as text classification (classifying a Tweet as real diaster or not real diaster).\n",
    "4. **Many to many:** many inputs, many outputs, such as machine translation (translating English to Spanish) or speech to text (audio wave as input, text as output).\n",
    "\n",
    "When you come across RNN's in the wild, you'll most likely come across variants of the following:\n",
    "\n",
    "1. Long short-term memory cells (LSTMs).\n",
    "2. Gated recurrent units (GRUs).\n",
    "3. Bidirectional RNN's (passes forward and backward along a sequence, left to right and right to left)."
   ]
  },
  {
   "cell_type": "code",
   "execution_count": 28,
   "id": "46e080be",
   "metadata": {
    "execution": {
     "iopub.execute_input": "2022-09-28T14:10:25.887564Z",
     "iopub.status.busy": "2022-09-28T14:10:25.886633Z",
     "iopub.status.idle": "2022-09-28T14:10:26.220407Z",
     "shell.execute_reply": "2022-09-28T14:10:26.219258Z"
    },
    "papermill": {
     "duration": 0.412279,
     "end_time": "2022-09-28T14:10:26.223128",
     "exception": false,
     "start_time": "2022-09-28T14:10:25.810849",
     "status": "completed"
    },
    "tags": []
   },
   "outputs": [
    {
     "name": "stdout",
     "output_type": "stream",
     "text": [
      "Model: \"model_2_dense\"\n",
      "_________________________________________________________________\n",
      "Layer (type)                 Output Shape              Param #   \n",
      "=================================================================\n",
      "input_2 (InputLayer)         [(None, 1)]               0         \n",
      "_________________________________________________________________\n",
      "text_vectorization_1 (TextVe (None, 15)                0         \n",
      "_________________________________________________________________\n",
      "embedding_1 (Embedding)      (None, 15, 128)           1280000   \n",
      "_________________________________________________________________\n",
      "lstm (LSTM)                  (None, 64)                49408     \n",
      "_________________________________________________________________\n",
      "dense_1 (Dense)              (None, 1)                 65        \n",
      "=================================================================\n",
      "Total params: 1,329,473\n",
      "Trainable params: 1,329,473\n",
      "Non-trainable params: 0\n",
      "_________________________________________________________________\n"
     ]
    }
   ],
   "source": [
    "from tensorflow.keras import layers\n",
    "\n",
    "inputs = layers.Input(shape=(1,), dtype = 'string') \n",
    "x = text_vectorizer(inputs)\n",
    "x = embedding(x)\n",
    "x = layers.LSTM(64)(x)\n",
    "outputs = layers.Dense(1, activation='sigmoid')(x)\n",
    "\n",
    "model_2 = tf.keras.Model(inputs, outputs, name='model_2_dense')\n",
    "model_2.compile(loss='binary_crossentropy',\n",
    "               optimizer = tf.keras.optimizers.Adam(learning_rate = 0.001),\n",
    "               metrics = [\"accuracy\"])\n",
    "model_2.summary()"
   ]
  },
  {
   "cell_type": "code",
   "execution_count": 29,
   "id": "46d7459b",
   "metadata": {
    "execution": {
     "iopub.execute_input": "2022-09-28T14:10:26.376739Z",
     "iopub.status.busy": "2022-09-28T14:10:26.375856Z",
     "iopub.status.idle": "2022-09-28T14:12:46.253352Z",
     "shell.execute_reply": "2022-09-28T14:12:46.251684Z"
    },
    "papermill": {
     "duration": 139.958663,
     "end_time": "2022-09-28T14:12:46.257021",
     "exception": false,
     "start_time": "2022-09-28T14:10:26.298358",
     "status": "completed"
    },
    "tags": []
   },
   "outputs": [
    {
     "name": "stdout",
     "output_type": "stream",
     "text": [
      "Epoch 1/3\n",
      "1596/1596 [==============================] - 49s 29ms/step - loss: 0.1397 - accuracy: 0.9469 - val_loss: 0.1954 - val_accuracy: 0.9256\n",
      "Epoch 2/3\n",
      "1596/1596 [==============================] - 46s 29ms/step - loss: 0.1183 - accuracy: 0.9548 - val_loss: 0.2128 - val_accuracy: 0.9237\n",
      "Epoch 3/3\n",
      "1596/1596 [==============================] - 45s 28ms/step - loss: 0.0970 - accuracy: 0.9627 - val_loss: 0.2222 - val_accuracy: 0.9209\n"
     ]
    }
   ],
   "source": [
    "history_2 = model_2.fit(train_sentences, train_labels,\n",
    "           epochs =3,\n",
    "           validation_data = (val_sentences, val_labels))\n"
   ]
  },
  {
   "cell_type": "code",
   "execution_count": 30,
   "id": "9002f1fa",
   "metadata": {
    "execution": {
     "iopub.execute_input": "2022-09-28T14:12:46.728166Z",
     "iopub.status.busy": "2022-09-28T14:12:46.726670Z",
     "iopub.status.idle": "2022-09-28T14:12:48.097406Z",
     "shell.execute_reply": "2022-09-28T14:12:48.095594Z"
    },
    "papermill": {
     "duration": 1.613054,
     "end_time": "2022-09-28T14:12:48.100056",
     "exception": false,
     "start_time": "2022-09-28T14:12:46.487002",
     "status": "completed"
    },
    "tags": []
   },
   "outputs": [
    {
     "name": "stdout",
     "output_type": "stream",
     "text": [
      "178/178 [==============================] - 1s 7ms/step - loss: 0.2222 - accuracy: 0.9209\n"
     ]
    },
    {
     "data": {
      "text/plain": [
       "[0.22216130793094635, 0.9208810329437256]"
      ]
     },
     "execution_count": 30,
     "metadata": {},
     "output_type": "execute_result"
    }
   ],
   "source": [
    "model_2_evaluate = model_2.evaluate(val_sentences, val_labels)\n",
    "model_2_evaluate"
   ]
  },
  {
   "cell_type": "code",
   "execution_count": 31,
   "id": "38c894d4",
   "metadata": {
    "execution": {
     "iopub.execute_input": "2022-09-28T14:12:48.564213Z",
     "iopub.status.busy": "2022-09-28T14:12:48.563365Z",
     "iopub.status.idle": "2022-09-28T14:12:49.016969Z",
     "shell.execute_reply": "2022-09-28T14:12:49.015275Z"
    },
    "papermill": {
     "duration": 0.689815,
     "end_time": "2022-09-28T14:12:49.019959",
     "exception": false,
     "start_time": "2022-09-28T14:12:48.330144",
     "status": "completed"
    },
    "tags": []
   },
   "outputs": [
    {
     "data": {
      "image/png": "[encoded data removed]",
      "text/plain": [
       "<Figure size 432x288 with 1 Axes>"
      ]
     },
     "metadata": {
      "needs_background": "light"
     },
     "output_type": "display_data"
    },
    {
     "data": {
      "image/png": "[encoded data removed]",
      "text/plain": [
       "<Figure size 432x288 with 1 Axes>"
      ]
     },
     "metadata": {
      "needs_background": "light"
     },
     "output_type": "display_data"
    }
   ],
   "source": [
    "plot_graphs(history_2, \"accuracy\")\n",
    "plot_graphs(history_2, \"loss\")"
   ]
  },
  {
   "cell_type": "markdown",
   "id": "0dd5b807",
   "metadata": {
    "papermill": {
     "duration": 0.284437,
     "end_time": "2022-09-28T14:12:49.528068",
     "exception": false,
     "start_time": "2022-09-28T14:12:49.243631",
     "status": "completed"
    },
    "tags": []
   },
   "source": [
    "# Model 3\n",
    "\n",
    "Using Bidirectional RNN with LSTM."
   ]
  },
  {
   "cell_type": "code",
   "execution_count": 32,
   "id": "0110f2ea",
   "metadata": {
    "execution": {
     "iopub.execute_input": "2022-09-28T14:12:49.980321Z",
     "iopub.status.busy": "2022-09-28T14:12:49.979822Z",
     "iopub.status.idle": "2022-09-28T14:12:50.500619Z",
     "shell.execute_reply": "2022-09-28T14:12:50.499406Z"
    },
    "papermill": {
     "duration": 0.748976,
     "end_time": "2022-09-28T14:12:50.503978",
     "exception": false,
     "start_time": "2022-09-28T14:12:49.755002",
     "status": "completed"
    },
    "tags": []
   },
   "outputs": [
    {
     "name": "stdout",
     "output_type": "stream",
     "text": [
      "Model: \"model_2_dense\"\n",
      "_________________________________________________________________\n",
      "Layer (type)                 Output Shape              Param #   \n",
      "=================================================================\n",
      "input_3 (InputLayer)         [(None, 1)]               0         \n",
      "_________________________________________________________________\n",
      "text_vectorization_1 (TextVe (None, 15)                0         \n",
      "_________________________________________________________________\n",
      "embedding_1 (Embedding)      (None, 15, 128)           1280000   \n",
      "_________________________________________________________________\n",
      "bidirectional (Bidirectional (None, 68)                44336     \n",
      "_________________________________________________________________\n",
      "dense_2 (Dense)              (None, 16)                1104      \n",
      "_________________________________________________________________\n",
      "dense_3 (Dense)              (None, 1)                 17        \n",
      "=================================================================\n",
      "Total params: 1,325,457\n",
      "Trainable params: 1,325,457\n",
      "Non-trainable params: 0\n",
      "_________________________________________________________________\n"
     ]
    }
   ],
   "source": [
    "from tensorflow.keras import layers\n",
    "\n",
    "inputs = layers.Input(shape=(1,), dtype = 'string') \n",
    "x = text_vectorizer(inputs)\n",
    "x = embedding(x)\n",
    "x = layers.Bidirectional(layers.LSTM(34))(x)\n",
    "x = layers.Dense(16)(x)\n",
    "outputs = layers.Dense(1, activation='sigmoid')(x)\n",
    "\n",
    "model_3 = tf.keras.Model(inputs, outputs, name='model_2_dense')\n",
    "model_3.compile(loss='binary_crossentropy',\n",
    "               optimizer = tf.keras.optimizers.Adam(learning_rate = 0.001),\n",
    "               metrics = [\"accuracy\"])\n",
    "model_3.summary()"
   ]
  },
  {
   "cell_type": "code",
   "execution_count": 33,
   "id": "46824173",
   "metadata": {
    "execution": {
     "iopub.execute_input": "2022-09-28T14:12:50.958555Z",
     "iopub.status.busy": "2022-09-28T14:12:50.957615Z",
     "iopub.status.idle": "2022-09-28T14:15:45.434545Z",
     "shell.execute_reply": "2022-09-28T14:15:45.433246Z"
    },
    "papermill": {
     "duration": 174.707006,
     "end_time": "2022-09-28T14:15:45.437786",
     "exception": false,
     "start_time": "2022-09-28T14:12:50.730780",
     "status": "completed"
    },
    "tags": []
   },
   "outputs": [
    {
     "name": "stdout",
     "output_type": "stream",
     "text": [
      "Epoch 1/3\n",
      "1596/1596 [==============================] - 62s 36ms/step - loss: 0.0955 - accuracy: 0.9641 - val_loss: 0.2455 - val_accuracy: 0.9207\n",
      "Epoch 2/3\n",
      "1596/1596 [==============================] - 56s 35ms/step - loss: 0.0660 - accuracy: 0.9746 - val_loss: 0.2731 - val_accuracy: 0.9186\n",
      "Epoch 3/3\n",
      "1596/1596 [==============================] - 56s 35ms/step - loss: 0.0498 - accuracy: 0.9812 - val_loss: 0.3242 - val_accuracy: 0.9144\n"
     ]
    }
   ],
   "source": [
    "history_3 = model_3.fit(train_sentences, train_labels,\n",
    "           epochs =3,\n",
    "           validation_data = (val_sentences, val_labels))\n"
   ]
  },
  {
   "cell_type": "code",
   "execution_count": 34,
   "id": "f62ab45c",
   "metadata": {
    "execution": {
     "iopub.execute_input": "2022-09-28T14:15:46.283288Z",
     "iopub.status.busy": "2022-09-28T14:15:46.282856Z",
     "iopub.status.idle": "2022-09-28T14:15:47.839231Z",
     "shell.execute_reply": "2022-09-28T14:15:47.838297Z"
    },
    "papermill": {
     "duration": 2.017187,
     "end_time": "2022-09-28T14:15:47.841865",
     "exception": false,
     "start_time": "2022-09-28T14:15:45.824678",
     "status": "completed"
    },
    "tags": []
   },
   "outputs": [
    {
     "name": "stdout",
     "output_type": "stream",
     "text": [
      "178/178 [==============================] - 2s 8ms/step - loss: 0.3242 - accuracy: 0.9144\n"
     ]
    },
    {
     "data": {
      "text/plain": [
       "[0.3242005705833435, 0.9143612384796143]"
      ]
     },
     "execution_count": 34,
     "metadata": {},
     "output_type": "execute_result"
    }
   ],
   "source": [
    "model_3_evaluate = model_3.evaluate(val_sentences, val_labels)\n",
    "model_3_evaluate"
   ]
  },
  {
   "cell_type": "code",
   "execution_count": 35,
   "id": "dfee6dd9",
   "metadata": {
    "execution": {
     "iopub.execute_input": "2022-09-28T14:15:48.609471Z",
     "iopub.status.busy": "2022-09-28T14:15:48.607959Z",
     "iopub.status.idle": "2022-09-28T14:15:49.081214Z",
     "shell.execute_reply": "2022-09-28T14:15:49.079848Z"
    },
    "papermill": {
     "duration": 0.855395,
     "end_time": "2022-09-28T14:15:49.084009",
     "exception": false,
     "start_time": "2022-09-28T14:15:48.228614",
     "status": "completed"
    },
    "tags": []
   },
   "outputs": [
    {
     "data": {
      "image/png": "[encoded data removed]",
      "text/plain": [
       "<Figure size 432x288 with 1 Axes>"
      ]
     },
     "metadata": {
      "needs_background": "light"
     },
     "output_type": "display_data"
    },
    {
     "data": {
      "image/png": "[encoded data removed]",
      "text/plain": [
       "<Figure size 432x288 with 1 Axes>"
      ]
     },
     "metadata": {
      "needs_background": "light"
     },
     "output_type": "display_data"
    }
   ],
   "source": [
    "plot_graphs(history_3, \"accuracy\")\n",
    "plot_graphs(history_3, \"loss\")"
   ]
  },
  {
   "cell_type": "markdown",
   "id": "c59666e9",
   "metadata": {
    "papermill": {
     "duration": 0.481393,
     "end_time": "2022-09-28T14:15:49.957510",
     "exception": false,
     "start_time": "2022-09-28T14:15:49.476117",
     "status": "completed"
    },
    "tags": []
   },
   "source": [
    "# Comparing Evaluation"
   ]
  },
  {
   "cell_type": "code",
   "execution_count": 36,
   "id": "62eff6ae",
   "metadata": {
    "execution": {
     "iopub.execute_input": "2022-09-28T14:15:50.737656Z",
     "iopub.status.busy": "2022-09-28T14:15:50.736822Z",
     "iopub.status.idle": "2022-09-28T14:15:50.753579Z",
     "shell.execute_reply": "2022-09-28T14:15:50.752378Z"
    },
    "papermill": {
     "duration": 0.410484,
     "end_time": "2022-09-28T14:15:50.756103",
     "exception": false,
     "start_time": "2022-09-28T14:15:50.345619",
     "status": "completed"
    },
    "tags": []
   },
   "outputs": [
    {
     "data": {
      "text/html": [
       "<div>\n",
       "<style scoped>\n",
       "    .dataframe tbody tr th:only-of-type {\n",
       "        vertical-align: middle;\n",
       "    }\n",
       "\n",
       "    .dataframe tbody tr th {\n",
       "        vertical-align: top;\n",
       "    }\n",
       "\n",
       "    .dataframe thead th {\n",
       "        text-align: right;\n",
       "    }\n",
       "</style>\n",
       "<table border=\"1\" class=\"dataframe\">\n",
       "  <thead>\n",
       "    <tr style=\"text-align: right;\">\n",
       "      <th></th>\n",
       "      <th>loss</th>\n",
       "      <th>accuracy</th>\n",
       "    </tr>\n",
       "  </thead>\n",
       "  <tbody>\n",
       "    <tr>\n",
       "      <th>model_1</th>\n",
       "      <td>0.204329</td>\n",
       "      <td>0.921410</td>\n",
       "    </tr>\n",
       "    <tr>\n",
       "      <th>model_2</th>\n",
       "      <td>0.222161</td>\n",
       "      <td>0.920881</td>\n",
       "    </tr>\n",
       "    <tr>\n",
       "      <th>model_3</th>\n",
       "      <td>0.324201</td>\n",
       "      <td>0.914361</td>\n",
       "    </tr>\n",
       "  </tbody>\n",
       "</table>\n",
       "</div>"
      ],
      "text/plain": [
       "             loss  accuracy\n",
       "model_1  0.204329  0.921410\n",
       "model_2  0.222161  0.920881\n",
       "model_3  0.324201  0.914361"
      ]
     },
     "execution_count": 36,
     "metadata": {},
     "output_type": "execute_result"
    }
   ],
   "source": [
    "evaluation_df = pd.DataFrame([model_1_evaluate, model_2_evaluate, model_3_evaluate], \n",
    "                                     columns = [\"loss\", \"accuracy\"],\n",
    "                                    index = ['model_1', 'model_2', 'model_3'])\n",
    "evaluation_df"
   ]
  },
  {
   "cell_type": "code",
   "execution_count": 37,
   "id": "1fac13ec",
   "metadata": {
    "execution": {
     "iopub.execute_input": "2022-09-28T14:15:51.609291Z",
     "iopub.status.busy": "2022-09-28T14:15:51.608845Z",
     "iopub.status.idle": "2022-09-28T14:15:51.821257Z",
     "shell.execute_reply": "2022-09-28T14:15:51.819837Z"
    },
    "papermill": {
     "duration": 0.675448,
     "end_time": "2022-09-28T14:15:51.823790",
     "exception": false,
     "start_time": "2022-09-28T14:15:51.148342",
     "status": "completed"
    },
    "tags": []
   },
   "outputs": [
    {
     "data": {
      "text/plain": [
       "<AxesSubplot:ylabel='loss'>"
      ]
     },
     "execution_count": 37,
     "metadata": {},
     "output_type": "execute_result"
    },
    {
     "data": {
      "image/png": "[encoded data removed]",
      "text/plain": [
       "<Figure size 432x288 with 1 Axes>"
      ]
     },
     "metadata": {
      "needs_background": "light"
     },
     "output_type": "display_data"
    }
   ],
   "source": [
    "sns.barplot(data=evaluation_df, y='loss', x=evaluation_df.index)\n"
   ]
  },
  {
   "cell_type": "code",
   "execution_count": 38,
   "id": "4f8a78ce",
   "metadata": {
    "execution": {
     "iopub.execute_input": "2022-09-28T14:15:52.598607Z",
     "iopub.status.busy": "2022-09-28T14:15:52.597441Z",
     "iopub.status.idle": "2022-09-28T14:15:52.788085Z",
     "shell.execute_reply": "2022-09-28T14:15:52.787205Z"
    },
    "papermill": {
     "duration": 0.576465,
     "end_time": "2022-09-28T14:15:52.790403",
     "exception": false,
     "start_time": "2022-09-28T14:15:52.213938",
     "status": "completed"
    },
    "tags": []
   },
   "outputs": [
    {
     "data": {
      "text/plain": [
       "<AxesSubplot:ylabel='accuracy'>"
      ]
     },
     "execution_count": 38,
     "metadata": {},
     "output_type": "execute_result"
    },
    {
     "data": {
      "image/png": "[encoded data removed]",
      "text/plain": [
       "<Figure size 432x288 with 1 Axes>"
      ]
     },
     "metadata": {
      "needs_background": "light"
     },
     "output_type": "display_data"
    }
   ],
   "source": [
    "sns.barplot(data=evaluation_df, y='accuracy', x=evaluation_df.index)"
   ]
  },
  {
   "cell_type": "markdown",
   "id": "e42ba466",
   "metadata": {
    "papermill": {
     "duration": 0.479486,
     "end_time": "2022-09-28T14:15:53.649540",
     "exception": false,
     "start_time": "2022-09-28T14:15:53.170054",
     "status": "completed"
    },
    "tags": []
   },
   "source": [
    "As we can see Model_1 loss is lowest of all.  \n",
    "\n",
    "Let's run predictions on model_1."
   ]
  },
  {
   "cell_type": "markdown",
   "id": "6906d5f0",
   "metadata": {
    "papermill": {
     "duration": 0.382927,
     "end_time": "2022-09-28T14:15:54.434795",
     "exception": false,
     "start_time": "2022-09-28T14:15:54.051868",
     "status": "completed"
    },
    "tags": []
   },
   "source": [
    "# Predictions"
   ]
  },
  {
   "cell_type": "code",
   "execution_count": 39,
   "id": "f7f5add5",
   "metadata": {
    "execution": {
     "iopub.execute_input": "2022-09-28T14:15:55.290765Z",
     "iopub.status.busy": "2022-09-28T14:15:55.290331Z",
     "iopub.status.idle": "2022-09-28T14:15:55.791361Z",
     "shell.execute_reply": "2022-09-28T14:15:55.790041Z"
    },
    "papermill": {
     "duration": 0.973899,
     "end_time": "2022-09-28T14:15:55.793750",
     "exception": false,
     "start_time": "2022-09-28T14:15:54.819851",
     "status": "completed"
    },
    "tags": []
   },
   "outputs": [
    {
     "data": {
      "text/plain": [
       "array([[2.0717326e-01],\n",
       "       [3.0859828e-02],\n",
       "       [9.9649429e-02],\n",
       "       [9.9957329e-01],\n",
       "       [6.0406327e-04]], dtype=float32)"
      ]
     },
     "execution_count": 39,
     "metadata": {},
     "output_type": "execute_result"
    }
   ],
   "source": [
    "predictions = model_1.predict(val_sentences)\n",
    "predictions[:5]"
   ]
  },
  {
   "cell_type": "markdown",
   "id": "f625fd95",
   "metadata": {
    "papermill": {
     "duration": 0.375365,
     "end_time": "2022-09-28T14:15:56.553056",
     "exception": false,
     "start_time": "2022-09-28T14:15:56.177691",
     "status": "completed"
    },
    "tags": []
   },
   "source": [
    "Since our final layer uses a sigmoid activation function, we get our predictions back in the form of probabilities.\n",
    "\n",
    "To convert them to prediction classes, we'll use `tf.round()`, meaning prediction probabilities below 0.5 will be rounded to 0 and those above 0.5 will be rounded to 1."
   ]
  },
  {
   "cell_type": "code",
   "execution_count": 40,
   "id": "ff569318",
   "metadata": {
    "execution": {
     "iopub.execute_input": "2022-09-28T14:15:57.313255Z",
     "iopub.status.busy": "2022-09-28T14:15:57.312755Z",
     "iopub.status.idle": "2022-09-28T14:15:57.325539Z",
     "shell.execute_reply": "2022-09-28T14:15:57.324526Z"
    },
    "papermill": {
     "duration": 0.399589,
     "end_time": "2022-09-28T14:15:57.327890",
     "exception": false,
     "start_time": "2022-09-28T14:15:56.928301",
     "status": "completed"
    },
    "tags": []
   },
   "outputs": [
    {
     "data": {
      "text/plain": [
       "<tf.Tensor: shape=(5,), dtype=int32, numpy=array([0, 0, 0, 1, 0], dtype=int32)>"
      ]
     },
     "execution_count": 40,
     "metadata": {},
     "output_type": "execute_result"
    }
   ],
   "source": [
    "predictions_result = tf.cast(tf.squeeze(tf.round(predictions)),dtype = tf.int32)\n",
    "predictions_result[:5]"
   ]
  },
  {
   "cell_type": "code",
   "execution_count": 41,
   "id": "45d9866d",
   "metadata": {
    "execution": {
     "iopub.execute_input": "2022-09-28T14:15:58.200313Z",
     "iopub.status.busy": "2022-09-28T14:15:58.199804Z",
     "iopub.status.idle": "2022-09-28T14:15:58.221001Z",
     "shell.execute_reply": "2022-09-28T14:15:58.219901Z"
    },
    "papermill": {
     "duration": 0.421881,
     "end_time": "2022-09-28T14:15:58.223551",
     "exception": false,
     "start_time": "2022-09-28T14:15:57.801670",
     "status": "completed"
    },
    "tags": []
   },
   "outputs": [
    {
     "data": {
      "text/html": [
       "<div>\n",
       "<style scoped>\n",
       "    .dataframe tbody tr th:only-of-type {\n",
       "        vertical-align: middle;\n",
       "    }\n",
       "\n",
       "    .dataframe tbody tr th {\n",
       "        vertical-align: top;\n",
       "    }\n",
       "\n",
       "    .dataframe thead th {\n",
       "        text-align: right;\n",
       "    }\n",
       "</style>\n",
       "<table border=\"1\" class=\"dataframe\">\n",
       "  <thead>\n",
       "    <tr style=\"text-align: right;\">\n",
       "      <th></th>\n",
       "      <th>Tweets</th>\n",
       "      <th>Toxicity</th>\n",
       "    </tr>\n",
       "  </thead>\n",
       "  <tbody>\n",
       "    <tr>\n",
       "      <th>0</th>\n",
       "      <td>My dad just told @YourDudeFerg 's dad to text ...</td>\n",
       "      <td>0</td>\n",
       "    </tr>\n",
       "    <tr>\n",
       "      <th>1</th>\n",
       "      <td>omg   tears #presumptivenominee @user #weareeq...</td>\n",
       "      <td>0</td>\n",
       "    </tr>\n",
       "    <tr>\n",
       "      <th>2</th>\n",
       "      <td>cancun for spring breakð¤ ....yes please! ð...</td>\n",
       "      <td>0</td>\n",
       "    </tr>\n",
       "    <tr>\n",
       "      <th>3</th>\n",
       "      <td>I guess I just come off as a bitch to people &amp;...</td>\n",
       "      <td>1</td>\n",
       "    </tr>\n",
       "    <tr>\n",
       "      <th>4</th>\n",
       "      <td>she wasn't ready to die. too young. a young ag...</td>\n",
       "      <td>0</td>\n",
       "    </tr>\n",
       "  </tbody>\n",
       "</table>\n",
       "</div>"
      ],
      "text/plain": [
       "                                              Tweets  Toxicity\n",
       "0  My dad just told @YourDudeFerg 's dad to text ...         0\n",
       "1  omg   tears #presumptivenominee @user #weareeq...         0\n",
       "2  cancun for spring breakð¤ ....yes please! ð...         0\n",
       "3  I guess I just come off as a bitch to people &...         1\n",
       "4  she wasn't ready to die. too young. a young ag...         0"
      ]
     },
     "execution_count": 41,
     "metadata": {},
     "output_type": "execute_result"
    }
   ],
   "source": [
    "result_df = pd.DataFrame({\"Tweets\": val_sentences,'Toxicity': predictions_result})\n",
    "result_df.head()"
   ]
  }
 ],
 "metadata": {
  "kernelspec": {
   "display_name": "Python 3",
   "language": "python",
   "name": "python3"
  },
  "language_info": {
   "codemirror_mode": {
    "name": "ipython",
    "version": 3
   },
   "file_extension": ".py",
   "mimetype": "text/x-python",
   "name": "python",
   "nbconvert_exporter": "python",
   "pygments_lexer": "ipython3",
   "version": "3.7.12"
  },
  "papermill": {
   "default_parameters": {},
   "duration": 446.771723,
   "end_time": "2022-09-28T14:16:02.029690",
   "environment_variables": {},
   "exception": null,
   "input_path": "__notebook__.ipynb",
   "output_path": "__notebook__.ipynb",
   "parameters": {},
   "start_time": "2022-09-28T14:08:35.257967",
   "version": "2.3.4"
  }
 },
 "nbformat": 4,
 "nbformat_minor": 5
}
